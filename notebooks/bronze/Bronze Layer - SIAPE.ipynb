{
 "cells": [
  {
   "cell_type": "markdown",
   "metadata": {
    "application/vnd.databricks.v1+cell": {
     "cellMetadata": {
      "byteLimit": 2048000,
      "rowLimit": 10000
     },
     "inputWidgets": {},
     "nuid": "bdff93be-711f-45ba-9041-89d9542db611",
     "showTitle": false,
     "title": ""
    }
   },
   "source": [
    "# Extração dos Dados"
   ]
  },
  {
   "cell_type": "code",
   "execution_count": 0,
   "metadata": {
    "application/vnd.databricks.v1+cell": {
     "cellMetadata": {
      "byteLimit": 2048000,
      "rowLimit": 10000
     },
     "inputWidgets": {},
     "nuid": "cc850c22-72f6-4f2e-979c-b087371bbd70",
     "showTitle": false,
     "title": ""
    }
   },
   "outputs": [],
   "source": [
    "import requests\n",
    "from datetime import datetime, timedelta\n",
    "from dateutil.relativedelta import relativedelta\n",
    "from io import BytesIO\n",
    "from zipfile import ZipFile"
   ]
  },
  {
   "cell_type": "code",
   "execution_count": 0,
   "metadata": {
    "application/vnd.databricks.v1+cell": {
     "cellMetadata": {
      "byteLimit": 2048000,
      "rowLimit": 10000
     },
     "inputWidgets": {},
     "nuid": "a165bdbf-1ff2-4e2b-87df-8cf380e934ed",
     "showTitle": false,
     "title": ""
    }
   },
   "outputs": [],
   "source": [
    "# Retorna uma lista contendo o (mes atual - 2) e tres meses de historico no formato '%Y%m'\n",
    "def generate_past_months(current_date, num_months):\n",
    "    months = []\n",
    "    for i in range(num_months):\n",
    "        month = (current_date.replace(day=1) - timedelta(days=i*30)).strftime('%Y%m')\n",
    "        months.append(month)    \n",
    "    return months"
   ]
  },
  {
   "cell_type": "code",
   "execution_count": 0,
   "metadata": {
    "application/vnd.databricks.v1+cell": {
     "cellMetadata": {
      "byteLimit": 2048000,
      "rowLimit": 10000
     },
     "inputWidgets": {},
     "nuid": "159adf10-5863-4c42-bd7e-acbe76ead33e",
     "showTitle": false,
     "title": ""
    }
   },
   "outputs": [],
   "source": [
    "def check_folders(category_path, months):\n",
    "    try:\n",
    "        existing_folders = [folder.name.rstrip('/') for folder in dbutils.fs.ls(category_path)]        \n",
    "        # Retorna True se ja houver dados historicos\n",
    "        return all(month in existing_folders for month in months)\n",
    "    except Exception as e:\n",
    "        # Caso a pasta ainda nao tenha sido criada (primeira execucao)\n",
    "        return False"
   ]
  },
  {
   "cell_type": "code",
   "execution_count": 0,
   "metadata": {
    "application/vnd.databricks.v1+cell": {
     "cellMetadata": {
      "byteLimit": 2048000,
      "rowLimit": 10000
     },
     "inputWidgets": {},
     "nuid": "e5a1aa96-09ef-4c68-a9a0-5638cc842213",
     "showTitle": false,
     "title": ""
    }
   },
   "outputs": [],
   "source": [
    "# Extrai os arquivos da pasta zipada e salva-os no dbfs\n",
    "def save_data(data, category_path, month, encoding=\"cp1252\"):\n",
    "    try: \n",
    "        with ZipFile(BytesIO(data)) as zip_file:\n",
    "            for filename in zip_file.namelist():\n",
    "                csv = zip_file.read(filename).decode(encoding=\"cp1252\")\n",
    "                dbfs_path = f\"{category_path}/{month}/{filename}\"                               \n",
    "\n",
    "                dbutils.fs.put(dbfs_path, csv, True)\n",
    "\n",
    "                print(f\"Arquivo {dbfs_path} salvo.\")\n",
    "    except Exception as e:\n",
    "        print(f\"Erro ao salvar os dados: {e}\")\n",
    "\n"
   ]
  },
  {
   "cell_type": "code",
   "execution_count": 0,
   "metadata": {
    "application/vnd.databricks.v1+cell": {
     "cellMetadata": {
      "byteLimit": 2048000,
      "rowLimit": 10000
     },
     "inputWidgets": {},
     "nuid": "c95f5deb-71cc-4773-bd15-22fad2d07ac4",
     "showTitle": false,
     "title": ""
    }
   },
   "outputs": [],
   "source": [
    "def get_data (category, category_path, month):\n",
    "    url = f\"https://portaldatransparencia.gov.br/download-de-dados/servidores/{month}_{category}_SIAPE\"\n",
    "    response = requests.get(url)\n",
    "    \n",
    "    if response.status_code == 200:\n",
    "        save_data(response.content, category_path, month)\n",
    "    else:    \n",
    "        print(f\"Erro na requisicao. Status code: {response.status_code}\")\n"
   ]
  },
  {
   "cell_type": "code",
   "execution_count": 0,
   "metadata": {
    "application/vnd.databricks.v1+cell": {
     "cellMetadata": {
      "byteLimit": 2048000,
      "rowLimit": 10000
     },
     "inputWidgets": {},
     "nuid": "9dcd041a-f8cf-4a73-9fc7-2a0836e53ae7",
     "showTitle": false,
     "title": ""
    }
   },
   "outputs": [
    {
     "output_type": "stream",
     "name": "stdout",
     "output_type": "stream",
     "text": [
      "Wrote 161089678 bytes.\nArquivo /bronze/SIAPE/Aposentados/202408/202408_Cadastro.csv salvo.\nWrote 80096 bytes.\nArquivo /bronze/SIAPE/Aposentados/202408/202408_Observacoes.csv salvo.\nWrote 129589165 bytes.\nArquivo /bronze/SIAPE/Aposentados/202408/202408_Remuneracao.csv salvo.\nWrote 128527432 bytes.\nArquivo /bronze/SIAPE/Pensionistas/202408/202408_Cadastro.csv salvo.\nWrote 20354 bytes.\nArquivo /bronze/SIAPE/Pensionistas/202408/202408_Observacoes.csv salvo.\nWrote 87015161 bytes.\nArquivo /bronze/SIAPE/Pensionistas/202408/202408_Remuneracao.csv salvo.\nWrote 475566 bytes.\nArquivo /bronze/SIAPE/Servidores/202408/202408_Afastamentos.csv salvo.\nWrote 439131436 bytes.\nArquivo /bronze/SIAPE/Servidores/202408/202408_Cadastro.csv salvo.\nWrote 1600887 bytes.\nArquivo /bronze/SIAPE/Servidores/202408/202408_Observacoes.csv salvo.\nWrote 169080321 bytes.\nArquivo /bronze/SIAPE/Servidores/202408/202408_Remuneracao.csv salvo.\nExtracao de dados finalizada!\n"
     ]
    }
   ],
   "source": [
    "# Define o caminho em que os dados serao armazenados\n",
    "category_path = {\n",
    "    \"Aposentados\": \"/bronze/SIAPE/Aposentados\",\n",
    "    \"Pensionistas\": \"/bronze/SIAPE/Pensionistas\",\n",
    "    \"Servidores\": \"/bronze/SIAPE/Servidores\"\n",
    "}\n",
    " \n",
    "two_months_ago = datetime.now() - relativedelta(months=2)\n",
    "required_months = generate_past_months(two_months_ago, 4)\n",
    "\n",
    "\n",
    "for category, category_path in category_path.items():  \n",
    "    # Ja existe historico, obtem apenas dados do (mes atual - 2)\n",
    "    if check_folders(category_path, required_months):\n",
    "        get_data (category, category_path, two_months_ago.strftime('%Y%m'))\n",
    "\n",
    "    # Primeira execucao\n",
    "    else:\n",
    "        for month in required_months:\n",
    "            get_data (category, category_path, month)\n",
    "\n",
    "print(\"Extracao de dados finalizada!\")        "
   ]
  }
 ],
 "metadata": {
  "application/vnd.databricks.v1+notebook": {
   "dashboards": [],
   "environmentMetadata": null,
   "language": "python",
   "notebookMetadata": {
    "pythonIndentUnit": 4
   },
   "notebookName": "Bronze Layer - SIAPE",
   "widgets": {}
  }
 },
 "nbformat": 4,
 "nbformat_minor": 0
}
